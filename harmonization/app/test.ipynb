{
 "cells": [
  {
   "cell_type": "code",
   "execution_count": 19,
   "metadata": {},
   "outputs": [],
   "source": [
    "import re\n",
    "\n",
    "def clean_contour_label(label):\n",
    "    \"\"\"\n",
    "    Cleans a contour label:\n",
    "    1. Converts all characters to lowercase.\n",
    "    2. Removes leading and trailing spaces.\n",
    "    3. Replaces special characters with spaces.\n",
    "    4. Condenses consecutive spaces and special characters into a single space.\n",
    "    5. Converts all spaces to underscores, except the trailing space if it exists.\n",
    "    6. Capitalizes the first character after each space.\n",
    "    \n",
    "    Args:\n",
    "    label (str): The input contour label.\n",
    "    \n",
    "    Returns:\n",
    "    str: The cleaned contour label.\n",
    "    \"\"\"\n",
    "    \n",
    "    # Convert all characters to lowercase\n",
    "    label = label.lower()\n",
    "    \n",
    "    # Remove leading and trailing spaces\n",
    "    label = label.strip()\n",
    "    \n",
    "    # Replace special characters with spaces\n",
    "    label = re.sub(r'[^\\w\\s]', ' ', label)\n",
    "    \n",
    "    # Condense consecutive spaces and special characters into a single space\n",
    "    label = re.sub(r'[\\s]+', ' ', label)\n",
    "    \n",
    "    # Check if there is a trailing space, and if so, remove it\n",
    "    if label.endswith(' '):\n",
    "        label = label[:-1]\n",
    "    \n",
    "    # Split the label into words and capitalize the first character of each word\n",
    "    words = label.split(' ')\n",
    "    words = [word.capitalize() for word in words]\n",
    "    \n",
    "    # Join the words with underscores\n",
    "    label = '_'.join(words)\n",
    "    \n",
    "    return label\n"
   ]
  },
  {
   "cell_type": "code",
   "execution_count": 20,
   "metadata": {},
   "outputs": [
    {
     "name": "stdout",
     "output_type": "stream",
     "text": [
      "Original Label: Contour_Label with Special Characters!\n",
      "Cleaned Label:  Contour_label_With_Special_Characters\n",
      "\n",
      "Original Label:   Extra    Spaces    \n",
      "Cleaned Label:  Extra_Spaces\n",
      "\n",
      "Original Label: UPPER CASE\n",
      "Cleaned Label:  Upper_Case\n",
      "\n",
      "Original Label: lowercase\n",
      "Cleaned Label:  Lowercase\n",
      "\n",
      "Original Label: !@#$%^&*()\n",
      "Cleaned Label:  \n",
      "\n",
      "Original Label: Multiple       Spaces     and         Special    Characters!!!\n",
      "Cleaned Label:  Multiple_Spaces_And_Special_Characters\n",
      "\n"
     ]
    }
   ],
   "source": [
    "# Test cases\n",
    "test_cases = [\n",
    "    \"Contour_Label with Special Characters!\",\n",
    "    \"  Extra    Spaces    \",\n",
    "    \"UPPER CASE\",\n",
    "    \"lowercase\",\n",
    "    \"!@#$%^&*()\",\n",
    "    \"Multiple       Spaces     and         Special    Characters!!!\",\n",
    "]\n",
    "\n",
    "for label in test_cases:\n",
    "    cleaned_label = clean_contour_label(label)\n",
    "    print(f\"Original Label: {label}\")\n",
    "    print(f\"Cleaned Label:  {cleaned_label}\\n\")\n"
   ]
  },
  {
   "cell_type": "code",
   "execution_count": 32,
   "metadata": {},
   "outputs": [
    {
     "data": {
      "text/plain": [
       "['t', 'h', 'i', 's', ' ', 'i', 's', ' ', 't', 'h', 'e', '1']"
      ]
     },
     "execution_count": 32,
     "metadata": {},
     "output_type": "execute_result"
    }
   ],
   "source": [
    "pattern = r'[\\D\\S]'\n",
    "text = \"this is the1\"\n",
    "\n",
    "output = re.findall(pattern ,text)\n",
    "output"
   ]
  }
 ],
 "metadata": {
  "kernelspec": {
   "display_name": "Python 3",
   "language": "python",
   "name": "python3"
  },
  "language_info": {
   "codemirror_mode": {
    "name": "ipython",
    "version": 3
   },
   "file_extension": ".py",
   "mimetype": "text/x-python",
   "name": "python",
   "nbconvert_exporter": "python",
   "pygments_lexer": "ipython3",
   "version": "3.11.0"
  },
  "orig_nbformat": 4
 },
 "nbformat": 4,
 "nbformat_minor": 2
}
